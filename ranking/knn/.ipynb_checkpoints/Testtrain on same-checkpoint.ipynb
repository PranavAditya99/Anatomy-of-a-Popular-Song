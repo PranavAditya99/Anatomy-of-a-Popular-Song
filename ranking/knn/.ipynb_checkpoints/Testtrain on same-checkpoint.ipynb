{
 "cells": [
  {
   "cell_type": "code",
   "execution_count": 1,
   "metadata": {},
   "outputs": [
    {
     "name": "stderr",
     "output_type": "stream",
     "text": [
      "C:\\Users\\Pranav Aditya\\Anaconda\\lib\\site-packages\\h5py\\__init__.py:36: FutureWarning: Conversion of the second argument of issubdtype from `float` to `np.floating` is deprecated. In future, it will be treated as `np.float64 == np.dtype(float).type`.\n",
      "  from ._conv import register_converters as _register_converters\n",
      "Using TensorFlow backend.\n"
     ]
    }
   ],
   "source": [
    "import numpy as np # linear algebra\n",
    "import pandas as pd # data processing, CSV file I/O (e.g. pd.read_csv)\n",
    "from sklearn import model_selection as ms\n",
    "import os\n",
    "from keras.layers import Dense, Dropout, Activation, Flatten, Conv2D, MaxPooling2D\n",
    "from keras.models import Sequential\n",
    "from sklearn import datasets, linear_model\n",
    "from sklearn.model_selection import train_test_split\n",
    "from matplotlib import pyplot as plt\n",
    "import matplotlib.image as mpimg\n",
    "import cv2 \n",
    "from sklearn.metrics import mean_squared_error\n",
    "import matplotlib.pyplot as plt \n",
    "from sklearn.neighbors import KNeighborsRegressor\n",
    "from sklearn import preprocessing\n",
    "#creating labelEncoder\n",
    "le = preprocessing.LabelEncoder()"
   ]
  },
  {
   "cell_type": "code",
   "execution_count": 6,
   "metadata": {},
   "outputs": [],
   "source": [
    "#mean absolute percentage error\n",
    "def mean_absolute_percentage_error(y_true, y_pred): \n",
    "    y_true, y_pred = np.array(y_true), np.array(y_pred)\n",
    "    return (np.mean(np.abs((y_true - y_pred) / y_true)) * 100)\n",
    "\n",
    "\n",
    "def acc(country):\n",
    "    path=\"../../datasets/normalized-age-data-waf/\"\n",
    "    waf=path +country+\"_waf.csv\"\n",
    "    data = pd.read_csv(waf)\n",
    "    data=data.drop(['Unnamed: 0','Unnamed: 0.1','URL', 'Year','Month','Day','Region'], axis = 1)\n",
    "    #data=data.drop(['URL', 'Year','Month','Day','Region','Track Name','Artist'], axis = 1)\n",
    "    y=data['Position']\n",
    "    x=data.drop(['Position'], axis = 1)\n",
    "    x_train=x[0:16300]\n",
    "    x_test=x[16300:18100]\n",
    "    y_train=y[0:16300]\n",
    "    y_test=y[16300:18100]\n",
    "\n",
    "    # Converting string labels into numbers.\n",
    "    x_train['Track Name']=le.fit_transform(x_train['Track Name'])\n",
    "    x_train['Artist']=le.fit_transform(x_train['Artist'])\n",
    "    x_test['Track Name']=le.fit_transform(x_test['Track Name'])\n",
    "    x_test['Artist']=le.fit_transform(x_test['Artist'])\n",
    "    x_test1=x_test\n",
    "    y_test1=y_test\n",
    "\n",
    "    ans=[]\n",
    "    for k in range(1,400):\n",
    "        #fitting KNN for different k values ny taking euclidean distance\n",
    "        neigh =KNeighborsRegressor(n_neighbors=k, weights='distance', algorithm='auto', leaf_size=30, p=2, metric='minkowski', metric_params=None)\n",
    "        \n",
    "        #fitting model\n",
    "        neigh.fit(x_train,y_train)\n",
    "        xnew=x_test1.copy()\n",
    "        ynew=y_test1.copy()\n",
    "        \n",
    "        #predicted values\n",
    "        ypred=neigh.predict(x_test1)\n",
    "        xnew['pred']=ypred\n",
    "        xnew['actual']=ynew\n",
    "\n",
    "\n",
    "\n",
    "        ans.append(mean_absolute_percentage_error(xnew['actual'] ,xnew['pred']))\n",
    "        #evaluating the model\n",
    "    \n",
    "    #printing accuracy and corresponding K     \n",
    "    print(\"Accuracy\",100-min(ans))\n",
    "    print(\"K:\",ans.index(min(ans))+1)\n",
    "    xplot=list(range(1,400))\n",
    "    yplot=ans\n",
    "\n",
    "    plt.plot(xplot,ans)\n",
    "    plt.xlabel('k values') \n",
    "\n",
    "    plt.ylabel('MAPE') \n",
    "    plt.show()\n"
   ]
  },
  {
   "cell_type": "code",
   "execution_count": 7,
   "metadata": {},
   "outputs": [
    {
     "name": "stderr",
     "output_type": "stream",
     "text": [
      "C:\\Users\\Pranav Aditya\\Anaconda\\lib\\site-packages\\ipykernel_launcher.py:21: SettingWithCopyWarning: \n",
      "A value is trying to be set on a copy of a slice from a DataFrame.\n",
      "Try using .loc[row_indexer,col_indexer] = value instead\n",
      "\n",
      "See the caveats in the documentation: http://pandas.pydata.org/pandas-docs/stable/indexing.html#indexing-view-versus-copy\n",
      "C:\\Users\\Pranav Aditya\\Anaconda\\lib\\site-packages\\ipykernel_launcher.py:22: SettingWithCopyWarning: \n",
      "A value is trying to be set on a copy of a slice from a DataFrame.\n",
      "Try using .loc[row_indexer,col_indexer] = value instead\n",
      "\n",
      "See the caveats in the documentation: http://pandas.pydata.org/pandas-docs/stable/indexing.html#indexing-view-versus-copy\n",
      "C:\\Users\\Pranav Aditya\\Anaconda\\lib\\site-packages\\ipykernel_launcher.py:23: SettingWithCopyWarning: \n",
      "A value is trying to be set on a copy of a slice from a DataFrame.\n",
      "Try using .loc[row_indexer,col_indexer] = value instead\n",
      "\n",
      "See the caveats in the documentation: http://pandas.pydata.org/pandas-docs/stable/indexing.html#indexing-view-versus-copy\n",
      "C:\\Users\\Pranav Aditya\\Anaconda\\lib\\site-packages\\ipykernel_launcher.py:24: SettingWithCopyWarning: \n",
      "A value is trying to be set on a copy of a slice from a DataFrame.\n",
      "Try using .loc[row_indexer,col_indexer] = value instead\n",
      "\n",
      "See the caveats in the documentation: http://pandas.pydata.org/pandas-docs/stable/indexing.html#indexing-view-versus-copy\n"
     ]
    },
    {
     "name": "stdout",
     "output_type": "stream",
     "text": [
      "Accuracy 75.11567224807291\n",
      "K: 129\n"
     ]
    },
    {
     "data": {
      "image/png": "[encoded data removed]",
      "text/plain": [
       "<Figure size 432x288 with 1 Axes>"
      ]
     },
     "metadata": {},
     "output_type": "display_data"
    }
   ],
   "source": [
    "acc(\"us\")"
   ]
  },
  {
   "cell_type": "code",
   "execution_count": null,
   "metadata": {},
   "outputs": [],
   "source": [
    "acc(\"au\")"
   ]
  },
  {
   "cell_type": "code",
   "execution_count": null,
   "metadata": {},
   "outputs": [],
   "source": [
    "acc(\"pa\")"
   ]
  },
  {
   "cell_type": "code",
   "execution_count": null,
   "metadata": {},
   "outputs": [],
   "source": []
  }
 ],
 "metadata": {
  "kernelspec": {
   "display_name": "Python 3",
   "language": "python",
   "name": "python3"
  },
  "language_info": {
   "codemirror_mode": {
    "name": "ipython",
    "version": 3
   },
   "file_extension": ".py",
   "mimetype": "text/x-python",
   "name": "python",
   "nbconvert_exporter": "python",
   "pygments_lexer": "ipython3",
   "version": "3.6.5"
  }
 },
 "nbformat": 4,
 "nbformat_minor": 2
}
