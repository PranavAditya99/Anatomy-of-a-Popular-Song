{
 "cells": [
  {
   "cell_type": "code",
   "execution_count": 6,
   "metadata": {},
   "outputs": [],
   "source": [
    "import numpy as np # linear algebra\n",
    "import pandas as pd # data processing, CSV file I/O (e.g. pd.read_csv)\n",
    "from sklearn import model_selection as ms\n",
    "import os\n",
    "from keras.layers import Dense, Dropout, Activation, Flatten, Conv2D, MaxPooling2D\n",
    "from keras.models import Sequential\n",
    "from sklearn import datasets, linear_model\n",
    "from sklearn.model_selection import train_test_split\n",
    "from matplotlib import pyplot as plt\n",
    "import matplotlib.image as mpimg\n",
    "import cv2 \n",
    "from sklearn.metrics import mean_squared_error\n",
    "import matplotlib.pyplot as plt \n",
    "from sklearn import preprocessing\n",
    "from sklearn.neighbors import KNeighborsRegressor\n",
    "le = preprocessing.LabelEncoder()"
   ]
  },
  {
   "cell_type": "code",
   "execution_count": 13,
   "metadata": {},
   "outputs": [],
   "source": [
    "#mean absolute percentage error\n",
    "def mean_absolute_percentage_error(y_true, y_pred): \n",
    "    y_true, y_pred = np.array(y_true), np.array(y_pred)\n",
    "    return (np.mean(np.abs((y_true - y_pred) / y_true)) * 100)\n",
    "\n",
    "\n",
    "#training\n",
    "def train(country):\n",
    "    path=\"../../datasets/normalized-age-data-waf/\"\n",
    "    waf=path +country+\"_waf.csv\"\n",
    "    data = pd.read_csv(waf)\n",
    "    #dropping unnecessary columns \n",
    "    data=data.drop(['Unnamed: 0','Unnamed: 0.1','URL', 'Year','Month','Day','Region'], axis = 1)\n",
    "    #setting y to position\n",
    "    y=data['Position']\n",
    "    #dropping position from x\n",
    "    x=data.drop(['Position'], axis = 1)\n",
    "    x['Track Name']=le.fit_transform(x['Track Name'])\n",
    "    x['Artist']=le.fit_transform(x['Artist'])\n",
    "    neigh =KNeighborsRegressor(n_neighbors=101, weights='distance', algorithm='auto', leaf_size=30, p=2, metric='minkowski', metric_params=None)\n",
    "    neigh.fit(x,y)\n",
    "    return neigh\n",
    "\n",
    "#code to test\n",
    "def test(country,neigh):\n",
    "    path=\"../../datasets/normalized-age-data-waf/\"\n",
    "    waf=path +country+\"_waf.csv\"\n",
    "    data = pd.read_csv(waf)\n",
    "    data=data.drop(['Unnamed: 0', 'Unnamed: 0.1','URL', 'Year','Month','Day','Region'], axis = 1)\n",
    "    #data=data.drop(['URL', 'Year','Month','Day','Region','Track Name','Artist'], axis = 1)\n",
    "    y=data['Position']\n",
    "    x=data.drop(['Position'], axis = 1)\n",
    "    x=x[0:100]\n",
    "    x['Track Name']=le.fit_transform(x['Track Name'])\n",
    "    x['Artist']=le.fit_transform(x['Artist'])\n",
    "    ypred=neigh.predict(x)\n",
    "    x['pred']=ypred\n",
    "    x['actual']=y\n",
    "    return(mean_absolute_percentage_error(x['actual'] ,x['pred']))\n",
    "    \n",
    "\n",
    "\n"
   ]
  },
  {
   "cell_type": "code",
   "execution_count": 15,
   "metadata": {},
   "outputs": [],
   "source": [
    "#train on US data\n",
    "model=train(\"us\")"
   ]
  },
  {
   "cell_type": "code",
   "execution_count": 18,
   "metadata": {},
   "outputs": [
    {
     "data": {
      "text/plain": [
       "393.63410016828055"
      ]
     },
     "execution_count": 18,
     "metadata": {},
     "output_type": "execute_result"
    }
   ],
   "source": [
    "#test on Phillipines\n",
    "test(\"ph\",model)"
   ]
  },
  {
   "cell_type": "code",
   "execution_count": null,
   "metadata": {},
   "outputs": [],
   "source": []
  },
  {
   "cell_type": "code",
   "execution_count": null,
   "metadata": {},
   "outputs": [],
   "source": []
  }
 ],
 "metadata": {
  "kernelspec": {
   "display_name": "Python 3",
   "language": "python",
   "name": "python3"
  },
  "language_info": {
   "codemirror_mode": {
    "name": "ipython",
    "version": 3
   },
   "file_extension": ".py",
   "mimetype": "text/x-python",
   "name": "python",
   "nbconvert_exporter": "python",
   "pygments_lexer": "ipython3",
   "version": "3.6.5"
  }
 },
 "nbformat": 4,
 "nbformat_minor": 2
}
